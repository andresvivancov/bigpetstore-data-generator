{
 "metadata": {
  "name": ""
 },
 "nbformat": 3,
 "nbformat_minor": 0,
 "worksheets": [
  {
   "cells": [
    {
     "cell_type": "code",
     "collapsed": false,
     "input": [
      "%load_ext autoreload\n",
      "%autoreload 2\n",
      "%matplotlib inline\n",
      "import matplotlib.pyplot as plt\n",
      "import pandas as pd\n",
      "import numpy as np\n",
      "import random"
     ],
     "language": "python",
     "metadata": {},
     "outputs": [
      {
       "output_type": "stream",
       "stream": "stdout",
       "text": [
        "The autoreload extension is already loaded. To reload it, use:\n",
        "  %reload_ext autoreload\n"
       ]
      }
     ],
     "prompt_number": 17
    },
    {
     "cell_type": "heading",
     "level": 1,
     "metadata": {},
     "source": [
      "Getting Started with BigPetStore"
     ]
    },
    {
     "cell_type": "markdown",
     "metadata": {},
     "source": [
      "Hadoop has positioned itself as the go-to solution for building big data warehousing and analysis solutions. Hadoop is a large ecosystem that includes a tools such as MapReduce, Pig, Hive, and Mahout. Unfortunately, the Hadoop community has been moving faster than the creation of documentation and high-quality examples. As a result, it is difficult for new users to learn the in and outs of tools, and maybe more importantly, how the tools fit together.\n",
      "\n",
      "BigPetStore (BPS) aims to be the canonical example for the Hadoop ecosystem built around a fictional chain of pet stores. BPS implements an analytics pipeline that showcases the capabilities and position of each tool in the Hadoop ecosystem.  Transaction records are generated randomly.  Pig is used to clean and reformat the data into a more consumable format. Hive is used to ... Finally, Mahout is used to perform analytics on the data to predict trends.\n",
      "\n",
      "BPS has started to move beyond just serving as an example for aspiring Hadoop users. BPS has recently gained attention and has been accepted into Apache BigTop, an open-source Hadoop distribution, where it's being used as part of the BigTop testing framework. Hadoop developers have also started using BPS in their live examples. \n",
      "\n",
      "The random generation of the fictional data lies at the core of BPS. By using random generation, users don't need to download huge data sets. Random generation provides control over how much data is generated, so that BPS can be used on systems as small as a single desktop up to large clusters."
     ]
    },
    {
     "cell_type": "heading",
     "level": 1,
     "metadata": {},
     "source": [
      "Probability Density Functions (PDFs) as a Framework for Describing Data"
     ]
    },
    {
     "cell_type": "markdown",
     "metadata": {},
     "source": [
      "Although the current generation approach is efficient, the generated data contains very few patterns and little complexity.  To truly showcase the capabilities of the Hadoop tools and application of analytics, more complex data is needed.  Since the current approach makes it hard to incorporate new variables and embed trends, I prototyped a new data model probability density functions (PDFs).  PDFs enable the data model to be modular, declarative, and composable.  As a result, the approach can easily be expanded to account for additional variables."
     ]
    },
    {
     "cell_type": "heading",
     "level": 2,
     "metadata": {},
     "source": [
      "Review of Probability Density Functions (PDFs) and Their Use in Defining Models"
     ]
    },
    {
     "cell_type": "code",
     "collapsed": false,
     "input": [],
     "language": "python",
     "metadata": {},
     "outputs": []
    },
    {
     "cell_type": "heading",
     "level": 2,
     "metadata": {},
     "source": [
      "Relational Description of Data Model"
     ]
    },
    {
     "cell_type": "markdown",
     "metadata": {},
     "source": [
      "A BigPetStore transaction contains:\n",
      "\n",
      "* First Name\n",
      "* Last Name\n",
      "* Date / Time\n",
      "* Product\n",
      "* SalesTotal\n",
      "* CustomerLocation (zipcode)"
     ]
    },
    {
     "cell_type": "heading",
     "level": 2,
     "metadata": {},
     "source": []
    },
    {
     "cell_type": "heading",
     "level": 2,
     "metadata": {},
     "source": [
      "Overview of PDFs for BigPetStore Data Model"
     ]
    },
    {
     "cell_type": "markdown",
     "metadata": {},
     "source": [
      "Factors to consider when forming probability density functions:\n",
      "\n",
      "* More stores are placed in more populated or wealthier areas\n",
      "* The closer people live to stores, the more likely they are to conduct a transaction\n",
      "* Wealthier people are more likely to spend more money, thus\n",
      "  * More transactions by in wealthier areas\n",
      "  * Larger SaleTotal in wealthier areas"
     ]
    },
    {
     "cell_type": "heading",
     "level": 2,
     "metadata": {},
     "source": [
      "Analysis of Demographic Data"
     ]
    },
    {
     "cell_type": "markdown",
     "metadata": {},
     "source": [
      "As an input to the model for BigPetStore, I'm using three datasets: population counts by zipcode, median household incomes by zipcode, and latitude and longitude coordinates by zipcode.  I give a brief overview of the datasets here."
     ]
    },
    {
     "cell_type": "heading",
     "level": 3,
     "metadata": {},
     "source": [
      "Median Household Income Data\n"
     ]
    },
    {
     "cell_type": "markdown",
     "metadata": {},
     "source": [
      "I obtained median household income data by zipcode from the 2012 American Community Survey.  I downloaded the data from the U.S. Census Bureau web site. "
     ]
    },
    {
     "cell_type": "code",
     "collapsed": false,
     "input": [
      "def read_income_data(flname):\n",
      "    zipcodes = []\n",
      "    household_incomes = []\n",
      "    fl = open(flname)\n",
      "    #skip headers\n",
      "    next(fl)\n",
      "    next(fl)\n",
      "    for ln in fl:\n",
      "        cols = ln.strip().split(\",\")\n",
      "        # zipcodes in column 3 in the format \"ZCTA5 XXXXX\"\n",
      "        zipcode = cols[2].split()[1]\n",
      "        try:\n",
      "            median_household_income = int(cols[5])\n",
      "            zipcodes.append(zipcode)\n",
      "            household_incomes.append(median_household_income)\n",
      "        except:\n",
      "            # some records do not contain incomes\n",
      "            pass\n",
      "    fl.close()\n",
      "    return pd.DataFrame({\"zipcode\" : zipcodes, \"median_household_income\" : household_incomes}, index=zipcodes)"
     ],
     "language": "python",
     "metadata": {},
     "outputs": [],
     "prompt_number": 340
    },
    {
     "cell_type": "code",
     "collapsed": false,
     "input": [
      "income_table = read_income_data(\"../resources/ACS_12_5YR_S1903/ACS_12_5YR_S1903_with_ann.csv\")"
     ],
     "language": "python",
     "metadata": {},
     "outputs": [],
     "prompt_number": 341
    },
    {
     "cell_type": "code",
     "collapsed": false,
     "input": [
      "income_table.shape"
     ],
     "language": "python",
     "metadata": {},
     "outputs": [
      {
       "metadata": {},
       "output_type": "pyout",
       "prompt_number": 342,
       "text": [
        "(32215, 2)"
       ]
      }
     ],
     "prompt_number": 342
    },
    {
     "cell_type": "code",
     "collapsed": false,
     "input": [
      "income_table.iloc[:10, :]"
     ],
     "language": "python",
     "metadata": {},
     "outputs": [
      {
       "html": [
        "<div style=\"max-height:1000px;max-width:1500px;overflow:auto;\">\n",
        "<table border=\"1\" class=\"dataframe\">\n",
        "  <thead>\n",
        "    <tr style=\"text-align: right;\">\n",
        "      <th></th>\n",
        "      <th>median_household_income</th>\n",
        "      <th>zipcode</th>\n",
        "    </tr>\n",
        "  </thead>\n",
        "  <tbody>\n",
        "    <tr>\n",
        "      <th>00601</th>\n",
        "      <td> 13495</td>\n",
        "      <td> 00601</td>\n",
        "    </tr>\n",
        "    <tr>\n",
        "      <th>00602</th>\n",
        "      <td> 15106</td>\n",
        "      <td> 00602</td>\n",
        "    </tr>\n",
        "    <tr>\n",
        "      <th>00603</th>\n",
        "      <td> 15079</td>\n",
        "      <td> 00603</td>\n",
        "    </tr>\n",
        "    <tr>\n",
        "      <th>00606</th>\n",
        "      <td> 12098</td>\n",
        "      <td> 00606</td>\n",
        "    </tr>\n",
        "    <tr>\n",
        "      <th>00610</th>\n",
        "      <td> 16923</td>\n",
        "      <td> 00610</td>\n",
        "    </tr>\n",
        "    <tr>\n",
        "      <th>00612</th>\n",
        "      <td> 18111</td>\n",
        "      <td> 00612</td>\n",
        "    </tr>\n",
        "    <tr>\n",
        "      <th>00616</th>\n",
        "      <td> 16279</td>\n",
        "      <td> 00616</td>\n",
        "    </tr>\n",
        "    <tr>\n",
        "      <th>00617</th>\n",
        "      <td> 15114</td>\n",
        "      <td> 00617</td>\n",
        "    </tr>\n",
        "    <tr>\n",
        "      <th>00622</th>\n",
        "      <td> 12059</td>\n",
        "      <td> 00622</td>\n",
        "    </tr>\n",
        "    <tr>\n",
        "      <th>00623</th>\n",
        "      <td> 16447</td>\n",
        "      <td> 00623</td>\n",
        "    </tr>\n",
        "  </tbody>\n",
        "</table>\n",
        "<p>10 rows \u00d7 2 columns</p>\n",
        "</div>"
       ],
       "metadata": {},
       "output_type": "pyout",
       "prompt_number": 343,
       "text": [
        "       median_household_income zipcode\n",
        "00601                    13495   00601\n",
        "00602                    15106   00602\n",
        "00603                    15079   00603\n",
        "00606                    12098   00606\n",
        "00610                    16923   00610\n",
        "00612                    18111   00612\n",
        "00616                    16279   00616\n",
        "00617                    15114   00617\n",
        "00622                    12059   00622\n",
        "00623                    16447   00623\n",
        "\n",
        "[10 rows x 2 columns]"
       ]
      }
     ],
     "prompt_number": 343
    },
    {
     "cell_type": "code",
     "collapsed": false,
     "input": [
      "plt.clf()\n",
      "plt.hist(income_table.iloc[:, 0], bins=100)\n",
      "plt.xlabel(\"Median Household Income for Zipcode\")\n",
      "plt.ylabel(\"Number of Zipcodes\")"
     ],
     "language": "python",
     "metadata": {},
     "outputs": [
      {
       "metadata": {},
       "output_type": "pyout",
       "prompt_number": 344,
       "text": [
        "<matplotlib.text.Text at 0x10ea54f50>"
       ]
      },
      {
       "metadata": {},
       "output_type": "display_data",
       "png": "[encoded data removed]",
       "text": [
        "<matplotlib.figure.Figure at 0x10ea49f50>"
       ]
      }
     ],
     "prompt_number": 344
    },
    {
     "cell_type": "heading",
     "level": 3,
     "metadata": {},
     "source": [
      "Population Count Data"
     ]
    },
    {
     "cell_type": "markdown",
     "metadata": {},
     "source": []
    },
    {
     "cell_type": "code",
     "collapsed": false,
     "input": [
      "def load_population_data(flname):\n",
      "\tfl = open(flname)\n",
      "\tpop_data = dict()\n",
      "\t# skip headers\n",
      "\tnext(fl)\n",
      "\tfor ln in fl:\n",
      "\t\tif ln.strip() == \"\":\n",
      "\t\t\tcontinue\n",
      "\t\tzipcode, pop = ln.split(\",\")\n",
      "\t\tpop = int(pop)\n",
      "        # remove duplicates.  keep largest pop values\n",
      "\t\tif zipcode in pop_data:\n",
      "\t\t\tpop_data[zipcode] = max(pop_data[zipcode], pop)\n",
      "\t\telse:\n",
      "\t\t\tpop_data[zipcode] = pop\n",
      "\tfl.close()\n",
      "\tpops = []\n",
      "\tzipcodes = []\n",
      "\tfor z, p in pop_data.iteritems():\n",
      "\t\tzipcodes.append(z)\n",
      "\t\tpops.append(p)\n",
      "\treturn pd.DataFrame(data={\"zipcode\" : zipcodes, \"population_count\" : pops}, index=zipcodes)"
     ],
     "language": "python",
     "metadata": {},
     "outputs": [],
     "prompt_number": 345
    },
    {
     "cell_type": "code",
     "collapsed": false,
     "input": [
      "pop_table = load_population_data(\"../resources/population_data.csv\")"
     ],
     "language": "python",
     "metadata": {},
     "outputs": [],
     "prompt_number": 346
    },
    {
     "cell_type": "code",
     "collapsed": false,
     "input": [
      "pop_table.shape"
     ],
     "language": "python",
     "metadata": {},
     "outputs": [
      {
       "metadata": {},
       "output_type": "pyout",
       "prompt_number": 347,
       "text": [
        "(32989, 2)"
       ]
      }
     ],
     "prompt_number": 347
    },
    {
     "cell_type": "code",
     "collapsed": false,
     "input": [
      "plt.clf()\n",
      "plt.hist(pop_count_table.iloc[:, 0], bins=100)\n",
      "plt.ylabel(\"Number of Zipcodes\")\n",
      "plt.xlabel(\"Population Count of Zipcode\")"
     ],
     "language": "python",
     "metadata": {},
     "outputs": [
      {
       "metadata": {},
       "output_type": "pyout",
       "prompt_number": 348,
       "text": [
        "<matplotlib.text.Text at 0x111b25d50>"
       ]
      },
      {
       "metadata": {},
       "output_type": "display_data",
       "png": "[encoded data removed]",
       "text": [
        "<matplotlib.figure.Figure at 0x10ea2e290>"
       ]
      }
     ],
     "prompt_number": 348
    },
    {
     "cell_type": "heading",
     "level": 3,
     "metadata": {},
     "source": [
      "Zipcode Longitude and Latitude Data"
     ]
    },
    {
     "cell_type": "markdown",
     "metadata": {},
     "source": []
    },
    {
     "cell_type": "code",
     "collapsed": false,
     "input": [
      "def load_zip_long_lat(flname):\n",
      "    fl = open(flname)\n",
      "    # skip header\n",
      "    next(fl)\n",
      "    zipcodes = []\n",
      "    lats = []\n",
      "    longs = []\n",
      "    for ln in fl:\n",
      "        cols = ln.split(\", \")\n",
      "        zipcode = cols[0][1:-1] # remove double-quote marks\n",
      "        lat = float(cols[2][1:-1])\n",
      "        long = float(cols[3][1:-1])\n",
      "        zipcodes.append(zipcode)\n",
      "        lats.append(lat)\n",
      "        longs.append(long)\n",
      "    fl.close()\n",
      "    return pd.DataFrame(data={\"zipcode\" : zipcodes, \"latitude\" : lats, \"longitude\" : longs}, index=zipcodes)"
     ],
     "language": "python",
     "metadata": {},
     "outputs": [],
     "prompt_number": 539
    },
    {
     "cell_type": "code",
     "collapsed": false,
     "input": [
      "zipcode_lats_longs = load_zip_long_lat(\"../resources/zips.csv\")"
     ],
     "language": "python",
     "metadata": {},
     "outputs": [],
     "prompt_number": 540
    },
    {
     "cell_type": "code",
     "collapsed": false,
     "input": [
      "zipcode_lats_longs.shape"
     ],
     "language": "python",
     "metadata": {},
     "outputs": [
      {
       "metadata": {},
       "output_type": "pyout",
       "prompt_number": 541,
       "text": [
        "(33178, 3)"
       ]
      }
     ],
     "prompt_number": 541
    },
    {
     "cell_type": "code",
     "collapsed": false,
     "input": [
      "zipcode_lats_longs.iloc[:10, :]"
     ],
     "language": "python",
     "metadata": {},
     "outputs": [
      {
       "html": [
        "<div style=\"max-height:1000px;max-width:1500px;overflow:auto;\">\n",
        "<table border=\"1\" class=\"dataframe\">\n",
        "  <thead>\n",
        "    <tr style=\"text-align: right;\">\n",
        "      <th></th>\n",
        "      <th>latitude</th>\n",
        "      <th>longitude</th>\n",
        "      <th>zipcode</th>\n",
        "    </tr>\n",
        "  </thead>\n",
        "  <tbody>\n",
        "    <tr>\n",
        "      <th>35004</th>\n",
        "      <td> 33.606379</td>\n",
        "      <td>-86.50249</td>\n",
        "      <td> 35004</td>\n",
        "    </tr>\n",
        "    <tr>\n",
        "      <th>35005</th>\n",
        "      <td> 33.592585</td>\n",
        "      <td>-86.95969</td>\n",
        "      <td> 35005</td>\n",
        "    </tr>\n",
        "    <tr>\n",
        "      <th>35006</th>\n",
        "      <td> 33.451714</td>\n",
        "      <td>-87.23957</td>\n",
        "      <td> 35006</td>\n",
        "    </tr>\n",
        "    <tr>\n",
        "      <th>35007</th>\n",
        "      <td> 33.232422</td>\n",
        "      <td>-86.80871</td>\n",
        "      <td> 35007</td>\n",
        "    </tr>\n",
        "    <tr>\n",
        "      <th>35010</th>\n",
        "      <td> 32.903432</td>\n",
        "      <td>-85.92669</td>\n",
        "      <td> 35010</td>\n",
        "    </tr>\n",
        "    <tr>\n",
        "      <th>35014</th>\n",
        "      <td> 33.355960</td>\n",
        "      <td>-86.27720</td>\n",
        "      <td> 35014</td>\n",
        "    </tr>\n",
        "    <tr>\n",
        "      <th>35016</th>\n",
        "      <td> 34.323715</td>\n",
        "      <td>-86.49278</td>\n",
        "      <td> 35016</td>\n",
        "    </tr>\n",
        "    <tr>\n",
        "      <th>35019</th>\n",
        "      <td> 34.292540</td>\n",
        "      <td>-86.63505</td>\n",
        "      <td> 35019</td>\n",
        "    </tr>\n",
        "    <tr>\n",
        "      <th>35020</th>\n",
        "      <td> 33.405559</td>\n",
        "      <td>-86.95141</td>\n",
        "      <td> 35020</td>\n",
        "    </tr>\n",
        "    <tr>\n",
        "      <th>35022</th>\n",
        "      <td> 33.346817</td>\n",
        "      <td>-86.95252</td>\n",
        "      <td> 35022</td>\n",
        "    </tr>\n",
        "  </tbody>\n",
        "</table>\n",
        "<p>10 rows \u00d7 3 columns</p>\n",
        "</div>"
       ],
       "metadata": {},
       "output_type": "pyout",
       "prompt_number": 542,
       "text": [
        "        latitude  longitude zipcode\n",
        "35004  33.606379  -86.50249   35004\n",
        "35005  33.592585  -86.95969   35005\n",
        "35006  33.451714  -87.23957   35006\n",
        "35007  33.232422  -86.80871   35007\n",
        "35010  32.903432  -85.92669   35010\n",
        "35014  33.355960  -86.27720   35014\n",
        "35016  34.323715  -86.49278   35016\n",
        "35019  34.292540  -86.63505   35019\n",
        "35020  33.405559  -86.95141   35020\n",
        "35022  33.346817  -86.95252   35022\n",
        "\n",
        "[10 rows x 3 columns]"
       ]
      }
     ],
     "prompt_number": 542
    },
    {
     "cell_type": "heading",
     "level": 3,
     "metadata": {},
     "source": [
      "Zipcodes"
     ]
    },
    {
     "cell_type": "markdown",
     "metadata": {},
     "source": [
      "Since there are zipcodes missing from each of the three datasets, I needed to reduce the datasets down to their common zipcodes."
     ]
    },
    {
     "cell_type": "code",
     "collapsed": false,
     "input": [
      "income_zipcodes = set(income_table[\"zipcode\"])\n",
      "pop_zipcodes = set(pop_table[\"zipcode\"])\n",
      "lat_long_zipcodes = set(zipcode_lats_longs[\"zipcode\"])\n",
      "common_zipcodes = income_zipcodes.intersection(pop_zipcodes).intersection(lat_long_zipcodes)\n",
      "print len(common_zipcodes)"
     ],
     "language": "python",
     "metadata": {},
     "outputs": [
      {
       "output_type": "stream",
       "stream": "stdout",
       "text": [
        "30891\n"
       ]
      }
     ],
     "prompt_number": 543
    },
    {
     "cell_type": "code",
     "collapsed": false,
     "input": [
      "income_table = income_table.loc[common_zipcodes, :]\n",
      "pop_table = pop_table.loc[common_zipcodes, :]\n",
      "lat_long_table = zipcode_lats_longs.loc[common_zipcodes, :]\n",
      "\n",
      "print income_table.shape, pop_table.shape, lat_long_table.shape"
     ],
     "language": "python",
     "metadata": {},
     "outputs": [
      {
       "output_type": "stream",
       "stream": "stdout",
       "text": [
        "(30891, 2) (30891, 2) (30891, 3)\n"
       ]
      }
     ],
     "prompt_number": 544
    },
    {
     "cell_type": "heading",
     "level": 3,
     "metadata": {},
     "source": [
      "Visualization of Zipcode Locations"
     ]
    },
    {
     "cell_type": "code",
     "collapsed": false,
     "input": [
      "plt.scatter(lat_long_table[\"longitude\"], lat_long_table[\"latitude\"])\n",
      "plt.ylabel(\"Latitude (degrees)\")\n",
      "plt.xlabel(\"Longitude (degrees)\")\n",
      "plt.title(\"All Common Zipcodes\")"
     ],
     "language": "python",
     "metadata": {},
     "outputs": [
      {
       "metadata": {},
       "output_type": "pyout",
       "prompt_number": 546,
       "text": [
        "<matplotlib.text.Text at 0x112bfa2d0>"
       ]
      },
      {
       "metadata": {},
       "output_type": "display_data",
       "png": "[encoded data removed]",
       "text": [
        "<matplotlib.figure.Figure at 0x112c0cbd0>"
       ]
      }
     ],
     "prompt_number": 546
    },
    {
     "cell_type": "markdown",
     "metadata": {},
     "source": [
      "The scatter plot of all of the zipcodes by latitude and longitude shows a few familiar shapes: the continental U.S., Alaska, and Hawaii.  (The Puerto Rican zipcodes were removed.)  I didn't know Alaska was so large.  :)"
     ]
    },
    {
     "cell_type": "code",
     "collapsed": false,
     "input": [
      "populations = list(reversed(sorted(pop_table[\"population_count\"])))\n",
      "cutoff_idx = int(len(populations) * 0.01)\n",
      "cutoff = populations[cutoff_idx]\n",
      "cutoff_zipcodes = [z for z in common_zipcodes if pop_table.loc[z, \"population_count\"] >= cutoff]\n",
      "plt.scatter(lat_long_table.loc[cutoff_zipcodes, \"longitude\"], lat_long_table.loc[cutoff_zipcodes, \"latitude\"])\n",
      "plt.ylabel(\"Latitude (degrees)\")\n",
      "plt.xlabel(\"Longitude (degrees)\")\n",
      "plt.title(\"Top 1% Most Populated Zipcodes\")\n"
     ],
     "language": "python",
     "metadata": {},
     "outputs": [
      {
       "metadata": {},
       "output_type": "pyout",
       "prompt_number": 550,
       "text": [
        "<matplotlib.text.Text at 0x110381a50>"
       ]
      },
      {
       "metadata": {},
       "output_type": "display_data",
       "png": "[encoded data removed]",
       "text": [
        "<matplotlib.figure.Figure at 0x110385310>"
       ]
      }
     ],
     "prompt_number": 550
    },
    {
     "cell_type": "markdown",
     "metadata": {},
     "source": [
      "A scatter plot of the zipcodes in the top 1% of the population counts shows large populations on the coasts and major metropolitan areas like Chicago."
     ]
    },
    {
     "cell_type": "code",
     "collapsed": false,
     "input": [
      "incomes = list(reversed(sorted(income_table[\"median_household_income\"])))\n",
      "cutoff_idx = int(len(incomes) * 0.01)\n",
      "cutoff = incomes[cutoff_idx]\n",
      "cutoff_zipcodes = [z for z in common_zipcodes if income_table.loc[z, \"median_household_income\"] >= cutoff]\n",
      "plt.scatter(lat_long_table.loc[cutoff_zipcodes, \"longitude\"], lat_long_table.loc[cutoff_zipcodes, \"latitude\"])\n",
      "plt.ylabel(\"Latitude (degrees)\")\n",
      "plt.xlabel(\"Longitude (degrees)\")\n",
      "plt.title(\"Top 1% Median Household Income Zipcodes\")\n"
     ],
     "language": "python",
     "metadata": {},
     "outputs": [
      {
       "metadata": {},
       "output_type": "pyout",
       "prompt_number": 551,
       "text": [
        "<matplotlib.text.Text at 0x112c5a690>"
       ]
      },
      {
       "metadata": {},
       "output_type": "display_data",
       "png": "[encoded data removed]",
       "text": [
        "<matplotlib.figure.Figure at 0x110356310>"
       ]
      }
     ],
     "prompt_number": 551
    },
    {
     "cell_type": "markdown",
     "metadata": {},
     "source": [
      "A scatter plot of the zipcodes in the top 1% of the median household incomes show large populations on the coasts and major metropolitan areas like Chicago."
     ]
    },
    {
     "cell_type": "heading",
     "level": 2,
     "metadata": {},
     "source": [
      "Store PDF"
     ]
    },
    {
     "cell_type": "markdown",
     "metadata": {},
     "source": [
      "Stores really only have two fields in our data model: a unique ID and a location (zipcode).  The complexity in modeling the stores comes from how we will choose to locate stores. I assume that stores are more likely to be placed in areas that have larger populations and higher incomes.  The store locations will be generated according to a probability density function giving the probability of a store occuring in a given zipcode.\n",
      "\n",
      "Note: the current approach for choosing the store locations assumes the stores are independent.  It may be interesting to incorporate patterns such that the location of new stores is influenced by previously generated stores.  For example, maybe we want to ensure that stores are located a minimum distance from each other while also within a maximum distance of each other."
     ]
    },
    {
     "cell_type": "heading",
     "level": 3,
     "metadata": {},
     "source": [
      "Store Population Density-Weighted PDF"
     ]
    },
    {
     "cell_type": "markdown",
     "metadata": {},
     "source": [
      "I directly used zipcode population counts to determine the probability of a store being placed in a given zipcode:\n",
      "\n",
      "$$p_{\\textrm{population_weighting}}(\\textrm{zipcode}) = \\frac{\\textrm{population_counts}(\\textrm{zipcode})}{\\sum_i\\textrm{population_counts}(i)} $$\n"
     ]
    },
    {
     "cell_type": "code",
     "collapsed": false,
     "input": [
      "class PopulationWeightedLocationPDF(object):\n",
      "    def __init__(self, table):\n",
      "        self.pop_density = table[\"population_count\"] / table[\"population_count\"].sum()\n",
      "    \n",
      "    def probability(self, zipcode):\n",
      "        return self.pop_density[zipcode]\n"
     ],
     "language": "python",
     "metadata": {},
     "outputs": [],
     "prompt_number": 392
    },
    {
     "cell_type": "heading",
     "level": 3,
     "metadata": {},
     "source": [
      "Store Income-Weighted PDF"
     ]
    },
    {
     "cell_type": "markdown",
     "metadata": {},
     "source": [
      "I want the most prosperous areas to be 100x more likely to have a store than the least prosperous areas.  To define the income weights, I needed a function that takes a user-defined parameter $s$ for the scaling between the minimum and maximum incomes and interpolates for incomes inbetween. I decided to use an exponential function.\n",
      "\n",
      "$$w_{\\textrm{income}}(\\textrm{income}) = \\frac{1}{Z}\\exp( k (\\textrm{income} - \\textrm{min_income}))$$\n",
      "\n",
      "To achieve the appropriate scaling factor $s$, $k$ is set as follows:\n",
      "\n",
      "$$ k = \\frac{\\log(s)}{\\textrm{max_income} - \\textrm{min_income}}$$\n",
      "\n",
      "$$\\textrm{min_income} = \\min_i{\\textrm{median_household_incomes}(i)}$$\n",
      "\n",
      "$$\\textrm{max_income} = \\max_i{\\textrm{median_household_incomes}(i)}$$"
     ]
    },
    {
     "cell_type": "code",
     "collapsed": false,
     "input": [
      "class IncomeScalingWeights(object):\n",
      "    def __init__(self, income_table=None, scaling_factor=100.0):\n",
      "        self.max_income = income_table[\"median_household_income\"].max()\n",
      "        self.min_income = income_table[\"median_household_income\"].min()\n",
      "        self.scaling_factor = scaling_factor\n",
      "        self.k = np.log(self.scaling_factor) / (self.max_income - self.min_income)\n",
      "        \n",
      "    def weight(self, income):\n",
      "        return np.exp(self.k * (income - self.min_income)) #/ self.normalization_factor"
     ],
     "language": "python",
     "metadata": {},
     "outputs": [],
     "prompt_number": 537
    },
    {
     "cell_type": "code",
     "collapsed": false,
     "input": [
      "income_weights = IncomeScalingWeights(income_table)"
     ],
     "language": "python",
     "metadata": {},
     "outputs": [],
     "prompt_number": 451
    },
    {
     "cell_type": "code",
     "collapsed": false,
     "input": [
      "print income_table[\"median_household_income\"].min(), income_table[\"median_household_income\"].max()\n",
      "incomes = np.linspace(income_table[\"median_household_income\"].min(), income_table[\"median_household_income\"].max(), num=100.0)\n",
      "weights = [income_weights.weight(income) for income in incomes]"
     ],
     "language": "python",
     "metadata": {},
     "outputs": [
      {
       "output_type": "stream",
       "stream": "stdout",
       "text": [
        "3372 242824\n"
       ]
      }
     ],
     "prompt_number": 460
    },
    {
     "cell_type": "code",
     "collapsed": false,
     "input": [
      "plt.plot(incomes, weights)\n",
      "plt.xlabel(\"Income\")\n",
      "plt.ylabel(\"Weight\")"
     ],
     "language": "python",
     "metadata": {},
     "outputs": [
      {
       "metadata": {},
       "output_type": "pyout",
       "prompt_number": 461,
       "text": [
        "<matplotlib.text.Text at 0x10ff9fa50>"
       ]
      },
      {
       "metadata": {},
       "output_type": "display_data",
       "png": "[encoded data removed]",
       "text": [
        "<matplotlib.figure.Figure at 0x11429b610>"
       ]
      }
     ],
     "prompt_number": 461
    },
    {
     "cell_type": "markdown",
     "metadata": {},
     "source": [
      "Since the income PDF takes income as an input, not location, I need to use function composition to map zipcodes to median household incomes and median household income to the weights.\n",
      "\n",
      "Mathematically, the function is written:\n",
      "\n",
      "$$p_{\\textrm{income_weighted}}(\\textrm{zipcode}) = \\frac{1}{Z} w_{\\textrm{income}}(\\textrm{median_household_incomes}(\\textrm{zipcode}))$$\n",
      "\n",
      "where $Z$ is the normalization factor.\n",
      "\n",
      "$Z$ is found by integrating $w_{\\textrm{income}}$ over all of the zipcodes:\n",
      "\n",
      "$$ Z = \\int w_{\\textrm{income}}(\\textrm{median_household_incomes}(z)) \\, dz$$"
     ]
    },
    {
     "cell_type": "code",
     "collapsed": false,
     "input": [
      "class IncomeWeightedLocationPDF(object):\n",
      "    def __init__(self, zipcodes=None, income_table=None, scaling_factor=100.0):\n",
      "        self.income_table = income_table\n",
      "        \n",
      "        self.max_income = income_table[\"median_household_income\"].max()\n",
      "        self.min_income = income_table[\"median_household_income\"].min()\n",
      "        self.scaling_factor = scaling_factor\n",
      "        self.k = np.log(self.scaling_factor) / (self.max_income - self.min_income)\n",
      "    \n",
      "        zipcode_weights = [self._income_weight(self._zipcode_income(z)) for z in zipcodes]\n",
      "        self.normalization_factor = sum(zipcode_weights) \n",
      "        \n",
      "    def _income_weight(self, income):\n",
      "        return np.exp(self.k * (income - self.min_income))\n",
      "    \n",
      "    def _zipcode_income(self, zipcode):\n",
      "        return self.income_table[\"median_household_income\"].loc[zipcode]\n",
      "    \n",
      "    def probability(self, zipcode):\n",
      "        return self._income_weight(self._zipcode_income(zipcode)) / self.normalization_factor"
     ],
     "language": "python",
     "metadata": {},
     "outputs": [],
     "prompt_number": 455
    },
    {
     "cell_type": "heading",
     "level": 3,
     "metadata": {},
     "source": [
      "Store Location PDF"
     ]
    },
    {
     "cell_type": "markdown",
     "metadata": {},
     "source": [
      "The composite store location PDF is written as follows:\n",
      "\n",
      "$$p_{\\textrm{store_location}}(\\textrm{zipcode}) = \\frac{1}{Z} p_{\\textrm{population_weighted}}(\\textrm{zipcode}) \\, p_{\\textrm{income_weighted}}(\\textrm{zipcode})$$\n",
      "\n",
      "where $Z$ is the normalization factor.\n",
      "\n",
      "Although $p_{\\textrm{population_weighted}}$ and $p_{\\textrm{income_weighted}}$ are proper PDFs, with areas equal to 1, individually, their multiplication is not.  As a result, a new normalization factor $Z$ needs to be computed.\n",
      "\n",
      "$Z$ is found by integrating over all of the zipcodes:\n",
      "\n",
      "$$ Z = \\int p_{\\textrm{population_weighted}}(z) \\, p_{\\textrm{income_weighted}}(z) \\, dz$$\n",
      "\n",
      "The implementation is as follows:\n"
     ]
    },
    {
     "cell_type": "code",
     "collapsed": false,
     "input": [
      "class StoreLocationPDF(object):\n",
      "    def __init__(self, zipcodes=None, income_table=None, pop_table=None, income_scaling=100.0):\n",
      "        self.population_pdf = PopulationWeightedLocationPDF(pop_table)\n",
      "        self.income_pdf = IncomeWeightedLocationPDF(zipcodes, income_table, scaling_factor=income_scaling)\n",
      "        \n",
      "        weights = [self._weight(z) for z in zipcodes]\n",
      "        self.normalization_factor = sum(weights)\n",
      "        \n",
      "    def _weight(self, zipcode):\n",
      "        return self.population_pdf.probability(zipcode) * self.income_pdf.probability(zipcode)\n",
      "                \n",
      "    \n",
      "    def probability(self, zipcode):\n",
      "        return self._weight(zipcode) / self.normalization_factor"
     ],
     "language": "python",
     "metadata": {},
     "outputs": [],
     "prompt_number": 442
    },
    {
     "cell_type": "markdown",
     "metadata": {},
     "source": [
      "As the store location PDF is one dimensional, a simple roulette wheel approach is efficienty for sampling.  The roulette wheel builds a table by computin the cumulative density function (CDF) and assigning each discrete value in the domain an interval.  Values are sampled by generating a random number from a uniform distribution and iterating through the table until the interval containing the randomly-generated number is found."
     ]
    },
    {
     "cell_type": "code",
     "collapsed": false,
     "input": [
      "class RouletteWheelSampler(object):\n",
      "    def __init__(self, domain, pdf):\n",
      "        self._wheel = []\n",
      "        end = 0.0\n",
      "        for x in domain:\n",
      "            end += pdf.probability(x)\n",
      "            self._wheel.append((end, x))\n",
      "        print end\n",
      "\n",
      "    def sample(self):\n",
      "        r = random.random()\n",
      "        for end, x in self._wheel:\n",
      "            if r < end:\n",
      "                return x\n",
      "        # we should never get here since probabilities\n",
      "        # should sum to 1\n",
      "        raise Exception, \"Could not pick a value!\""
     ],
     "language": "python",
     "metadata": {},
     "outputs": [],
     "prompt_number": 437
    },
    {
     "cell_type": "heading",
     "level": 3,
     "metadata": {},
     "source": [
      "Building Store Objects"
     ]
    },
    {
     "cell_type": "markdown",
     "metadata": {},
     "source": [
      "Stores have two fields: the location and a unique identifier (for cases where there are multiple stores in the same zipcode).  Using a builder allows us to add new fields in the future.  The builder encapsulates the PDF and sampling method.  Stores are represented as dictionaries."
     ]
    },
    {
     "cell_type": "code",
     "collapsed": false,
     "input": [
      "class StoreBuilder(object):\n",
      "    def __init__(self, zipcodes=None, income_table=None, pop_table=None, income_scaling=100.0):\n",
      "        self._ident = 1\n",
      "        \n",
      "        location_pdf = StoreLocationPDF(zipcodes, income_table, pop_table, income_scaling=income_scaling)\n",
      "        self._location_sampler = RouletteWheelSampler(zipcodes, location_pdf)\n",
      "        \n",
      "    def build(self):\n",
      "        store_ident = self._ident\n",
      "        self._ident += 1\n",
      "        \n",
      "        store_zipcode = self._location_sampler.sample()\n",
      "        \n",
      "        return {\"store_id\" : store_ident, \"zipcode\" : store_zipcode}"
     ],
     "language": "python",
     "metadata": {},
     "outputs": [],
     "prompt_number": 438
    },
    {
     "cell_type": "code",
     "collapsed": false,
     "input": [
      "store_builder = StoreBuilder(zipcodes=common_zipcodes, income_table=income_table, pop_table=pop_table, income_scaling=100.0)"
     ],
     "language": "python",
     "metadata": {},
     "outputs": [
      {
       "output_type": "stream",
       "stream": "stdout",
       "text": [
        "1.0\n"
       ]
      }
     ],
     "prompt_number": 527
    },
    {
     "cell_type": "code",
     "collapsed": false,
     "input": [
      "stores_10 = [store_builder.build() for i in  xrange(10)]\n",
      "stores_100 = [store_builder.build() for i in  xrange(100)]\n",
      "stores_1000 = [store_builder.build() for i in  xrange(1000)]"
     ],
     "language": "python",
     "metadata": {},
     "outputs": [],
     "prompt_number": 529
    },
    {
     "cell_type": "code",
     "collapsed": false,
     "input": [
      "print stores_10[:10]"
     ],
     "language": "python",
     "metadata": {},
     "outputs": [
      {
       "output_type": "stream",
       "stream": "stdout",
       "text": [
        "[{'store_id': 1, 'zipcode': '93021'}, {'store_id': 2, 'zipcode': '78613'}, {'store_id': 3, 'zipcode': '06062'}, {'store_id': 4, 'zipcode': '65721'}, {'store_id': 5, 'zipcode': '76063'}, {'store_id': 6, 'zipcode': '37771'}, {'store_id': 7, 'zipcode': '77033'}, {'store_id': 8, 'zipcode': '20111'}, {'store_id': 9, 'zipcode': '74073'}, {'store_id': 10, 'zipcode': '02346'}]\n"
       ]
      }
     ],
     "prompt_number": 530
    },
    {
     "cell_type": "heading",
     "level": 2,
     "metadata": {},
     "source": [
      "Customer PDFs"
     ]
    },
    {
     "cell_type": "markdown",
     "metadata": {},
     "source": [
      "Customer data model:\n",
      "\n",
      "* Name\n",
      "* Location (zipcode)\n",
      "* Number of Pets (used when generating pets)\n",
      "* Income (used later to determine spending habits)\n",
      "* Customer Transaction Weight (hidden, used to determine customers who are more or less likely to have transactions than normal)"
     ]
    },
    {
     "cell_type": "heading",
     "level": 3,
     "metadata": {},
     "source": [
      "Customer Location"
     ]
    },
    {
     "cell_type": "markdown",
     "metadata": {},
     "source": [
      "The customer location will be modeled based on population density and the locations of the stores.  More customers will be in more populated areas.\n",
      "\n",
      "We will also consider the distance to the closest store.  Customers will be much more likely to be located within 10 or 20 miles of a store.\n",
      "\n",
      "First, we'll look at the distribution of the minimum distances to stores based on the number of stores generated."
     ]
    },
    {
     "cell_type": "code",
     "collapsed": false,
     "input": [
      "import math\n",
      "\n",
      "class DistanceNearestStore(object):\n",
      "    def __init__(self, stores=None, lat_long_table=None):\n",
      "        self._lat_long_table = lat_long_table\n",
      "        self._stores = list()\n",
      "        for store in stores:\n",
      "            zipcode = store[\"zipcode\"]\n",
      "            latA = self._lat_long_table.loc[zipcode, \"latitude\"]\n",
      "            longA = self._lat_long_table.loc[zipcode, \"longitude\"]\n",
      "            self._stores.append((store, latA, longA))\n",
      "        \n",
      "    def _dist(self, lat_A, long_A, lat_B, long_B):\n",
      "        \"\"\"\n",
      "        Computes distance between latitude-longitude\n",
      "        pairs in miles.\n",
      "        \"\"\"\n",
      "        dist = (math.sin(math.radians(lat_A)) *\n",
      "                math.sin(math.radians(lat_B)) +\n",
      "                math.cos(math.radians(lat_A)) *\n",
      "                math.cos(math.radians(lat_B)) *\n",
      "                math.cos(math.radians(long_A - long_B)))\n",
      "        dist = (math.degrees(math.acos(dist))) * 69.09\n",
      "        return dist\n",
      "        \n",
      "    def min_dist(self, zipcode):\n",
      "        latA = self._lat_long_table.loc[zipcode, \"latitude\"]\n",
      "        longA = self._lat_long_table.loc[zipcode, \"longitude\"]\n",
      "        \n",
      "        distances = []\n",
      "        for store, latB, longB in self._stores:\n",
      "            if store[\"zipcode\"] == zipcode:\n",
      "                dist = 0.0\n",
      "            else:\n",
      "                dist = self._dist(latA, longA, latB, longB) \n",
      "            distances.append((dist, store))\n",
      "            \n",
      "        return min(distances)"
     ],
     "language": "python",
     "metadata": {},
     "outputs": [],
     "prompt_number": 523
    },
    {
     "cell_type": "code",
     "collapsed": false,
     "input": [
      "distance_nearest_store_10 = DistanceNearestStore(stores_10, lat_long_table)\n",
      "distance_nearest_store_100 = DistanceNearestStore(stores_100, lat_long_table)\n",
      "distance_nearest_store_1000 = DistanceNearestStore(stores_1000, lat_long_table)"
     ],
     "language": "python",
     "metadata": {},
     "outputs": [],
     "prompt_number": 531
    },
    {
     "cell_type": "code",
     "collapsed": false,
     "input": [
      "zipcode_dist_10 = [distance_nearest_store_10.min_dist(z) for z in common_zipcodes]\n",
      "zipcode_dist_100 = [distance_nearest_store_100.min_dist(z) for z in common_zipcodes]\n",
      "zipcode_dist_1000 = [distance_nearest_store_1000.min_dist(z) for z in common_zipcodes]"
     ],
     "language": "python",
     "metadata": {},
     "outputs": [],
     "prompt_number": 532
    },
    {
     "cell_type": "code",
     "collapsed": false,
     "input": [
      "distances_only_10 = [dist for dist, store in zipcode_dist_10 if dist < 200.0]\n",
      "plt.clf()\n",
      "plt.hist(distances_only_10, bins=100)\n",
      "plt.title(\"10 stores\")\n",
      "plt.xlabel(\"Distance to Nearest Store (miles)\")\n",
      "plt.ylabel(\"Count\")"
     ],
     "language": "python",
     "metadata": {},
     "outputs": [
      {
       "metadata": {},
       "output_type": "pyout",
       "prompt_number": 533,
       "text": [
        "<matplotlib.text.Text at 0x11525b690>"
       ]
      },
      {
       "metadata": {},
       "output_type": "display_data",
       "png": "[encoded data removed]",
       "text": [
        "<matplotlib.figure.Figure at 0x115249090>"
       ]
      }
     ],
     "prompt_number": 533
    },
    {
     "cell_type": "code",
     "collapsed": false,
     "input": [
      "distances_only_100 = [dist for dist, store in zipcode_dist_100 if dist < 200.0]\n",
      "plt.clf()\n",
      "plt.hist(distances_only_100, bins=100)\n",
      "plt.title(\"100 stores\")\n",
      "plt.xlabel(\"Distance to Nearest Store (miles)\")\n",
      "plt.ylabel(\"Count\")"
     ],
     "language": "python",
     "metadata": {},
     "outputs": [
      {
       "metadata": {},
       "output_type": "pyout",
       "prompt_number": 534,
       "text": [
        "<matplotlib.text.Text at 0x115b61c10>"
       ]
      },
      {
       "metadata": {},
       "output_type": "display_data",
       "png": "[encoded data removed]",
       "text": [
        "<matplotlib.figure.Figure at 0x1140cbd10>"
       ]
      }
     ],
     "prompt_number": 534
    },
    {
     "cell_type": "code",
     "collapsed": false,
     "input": [
      "distances_only_1000 = [dist for dist, store in zipcode_dist_1000 if dist < 180.0]\n",
      "plt.clf()\n",
      "plt.hist(distances_only_1000, bins=100)\n",
      "plt.title(\"10 stores\")\n",
      "plt.xlabel(\"Distance to Nearest Store (miles)\")\n",
      "plt.ylabel(\"Count\")"
     ],
     "language": "python",
     "metadata": {},
     "outputs": [
      {
       "metadata": {},
       "output_type": "pyout",
       "prompt_number": 536,
       "text": [
        "<matplotlib.text.Text at 0x115fc24d0>"
       ]
      },
      {
       "metadata": {},
       "output_type": "display_data",
       "png": "[encoded data removed]",
       "text": [
        "<matplotlib.figure.Figure at 0x115246e90>"
       ]
      }
     ],
     "prompt_number": 536
    },
    {
     "cell_type": "markdown",
     "metadata": {},
     "source": [
      "The number of stores generated has a significant impact on the minimum distances.  For 10 stores, a reasonable percentage of the zipcodes have a minimum distance of 125 miles.  For 100 stores, the threshold falls to 20 miles, and when we generate 1,000 stores, most zipcodes are within 5-10 miles of a store.  The effect of limiting customer locations based on distances will depend significantly on the number of stores.\n",
      "\n",
      "We will choose to use an exponential distribution to model the probability of a customer living in a certain zipcode based on the distance to the nearest store.  An exponential distribution has a single parameter, the average.\n",
      "\n",
      "$$f(x; \\beta) = \\frac{1}{\\beta} \\exp(-\\frac{x}{\\beta}) $$"
     ]
    },
    {
     "cell_type": "code",
     "collapsed": false,
     "input": [
      "class DistanceWeights(object):\n",
      "    def __init__(self, avg_distance=10.0):\n",
      "        self.lambd = 1.0 / avg_distance\n",
      "    \n",
      "    def weight(self, distance):\n",
      "        return self.lambd * np.exp(-self.lambd * distance)\n",
      "        "
     ],
     "language": "python",
     "metadata": {},
     "outputs": [],
     "prompt_number": 456
    },
    {
     "cell_type": "code",
     "collapsed": false,
     "input": [
      "distance_weights = DistanceWeights()"
     ],
     "language": "python",
     "metadata": {},
     "outputs": [],
     "prompt_number": 457
    },
    {
     "cell_type": "code",
     "collapsed": false,
     "input": [
      "distances = np.linspace(0.0, 100.0, num=1000.0)\n",
      "weights = [distance_weights.weight(distance) for distance in distances]"
     ],
     "language": "python",
     "metadata": {},
     "outputs": [],
     "prompt_number": 462
    },
    {
     "cell_type": "code",
     "collapsed": false,
     "input": [
      "plt.plot(distances, weights)\n",
      "plt.xlabel(\"Distance (Miles)\")\n",
      "plt.ylabel(\"Weight\")"
     ],
     "language": "python",
     "metadata": {},
     "outputs": [
      {
       "metadata": {},
       "output_type": "pyout",
       "prompt_number": 463,
       "text": [
        "<matplotlib.text.Text at 0x113d216d0>"
       ]
      },
      {
       "metadata": {},
       "output_type": "display_data",
       "png": "[encoded data removed]",
       "text": [
        "<matplotlib.figure.Figure at 0x113d25a90>"
       ]
      }
     ],
     "prompt_number": 463
    },
    {
     "cell_type": "markdown",
     "metadata": {},
     "source": [
      "The exponential distribution actually matches the real distance distributions quite well given enough stores.  By choosing an average of 10 miles, the exponential distribution ensures that most customers are within 20-30 miles of a store."
     ]
    },
    {
     "cell_type": "code",
     "collapsed": false,
     "input": [],
     "language": "python",
     "metadata": {},
     "outputs": [],
     "prompt_number": 503
    },
    {
     "cell_type": "code",
     "collapsed": false,
     "input": [],
     "language": "python",
     "metadata": {},
     "outputs": [],
     "prompt_number": 520
    },
    {
     "cell_type": "code",
     "collapsed": false,
     "input": [],
     "language": "python",
     "metadata": {},
     "outputs": [],
     "prompt_number": 521
    },
    {
     "cell_type": "heading",
     "level": 2,
     "metadata": {},
     "source": [
      "Pet PDFs"
     ]
    },
    {
     "cell_type": "heading",
     "level": 2,
     "metadata": {},
     "source": [
      "Product PDFs"
     ]
    },
    {
     "cell_type": "heading",
     "level": 3,
     "metadata": {},
     "source": [
      "Transaction PDFs"
     ]
    },
    {
     "cell_type": "code",
     "collapsed": false,
     "input": [],
     "language": "python",
     "metadata": {},
     "outputs": []
    },
    {
     "cell_type": "heading",
     "level": 1,
     "metadata": {},
     "source": [
      "Using Monte Carlo Methods to Generate Data from the New Model"
     ]
    },
    {
     "cell_type": "heading",
     "level": 2,
     "metadata": {},
     "source": [
      "Introduction to Monte Carlo Methods"
     ]
    },
    {
     "cell_type": "markdown",
     "metadata": {},
     "source": [
      "Monte Carlo methods are stochastic methods for sampling from complex probability density functions (PDFs).  Since complex PDFs are often very difficult to sample directly, "
     ]
    },
    {
     "cell_type": "code",
     "collapsed": false,
     "input": [
      "class MonteCarloSampler(object):\n",
      "    def __init__(self, generator, pdf):\n",
      "        self.generator = generator\n",
      "        self.pdf = pdf\n",
      "        self.num_iter_accept = []\n",
      "\n",
      "    def sample(self):\n",
      "        num_iter = 0\n",
      "        while True:\n",
      "            num_iter += 1\n",
      "            obj = self.generator.generate()\n",
      "            prob = self.pdf.probability(obj)\n",
      "            rand = random.random()\n",
      "            if rand < prob:\n",
      "                self.num_iter_accept.append(num_iter)\n",
      "                return obj\n",
      "\n",
      "    def sample_n(self, n):\n",
      "        samples = []\n",
      "        for i in xrange(n):\n",
      "            samples.append(self.sample())\n",
      "        return samples\n",
      "\n",
      "    def acceptance_rate(self):\n",
      "        if len(self.num_iter_accept) == 0:\n",
      "            return 0.0\n",
      "        return 1.0 / np.average(self.num_iter_accept)"
     ],
     "language": "python",
     "metadata": {},
     "outputs": [],
     "prompt_number": 280
    },
    {
     "cell_type": "code",
     "collapsed": false,
     "input": [
      "class GaussianPDF(object):\n",
      "\tdef __init__(self, mean, std_dev):\n",
      "\t\tself.mean = mean\n",
      "\t\tself.std_dev = std_dev\n",
      "\n",
      "\tdef probability(self, x):\n",
      "\t\texponent = -1.0 * np.power(x - self.mean, 2.0) / (2.0 * self.std_dev * self.std_dev)\n",
      "\t\treturn np.exp(exponent) / (self.std_dev * np.sqrt(2.0 * np.pi))\n",
      "\n",
      "class UniformSampler(object):\n",
      "\tdef __init__(self, a, b):\n",
      "\t\tself.a = a\n",
      "\t\tself.b = b\n",
      "\n",
      "\tdef generate(self):\n",
      "\t\treturn random.uniform(self.a, self.b)"
     ],
     "language": "python",
     "metadata": {},
     "outputs": []
    },
    {
     "cell_type": "code",
     "collapsed": false,
     "input": [
      "mean = 0.0\n",
      "std = 1.0\n",
      "narrow_a = -10.0\n",
      "narrow_b = 10.0\n",
      "wide_a = -100.0\n",
      "wide_b = 100.0"
     ],
     "language": "python",
     "metadata": {},
     "outputs": [],
     "prompt_number": 38
    },
    {
     "cell_type": "code",
     "collapsed": false,
     "input": [
      "gaussian_pdf = GaussianPDF(mean, std)\n",
      "narrow_uniform_sampler = UniformSampler(narrow_a, narrow_b)\n",
      "wide_uniform_sampler = UniformSampler(wide_a, wide_b)\n",
      "narrow_mc = MonteCarloSampler(narrow_uniform_sampler, gaussian_pdf)\n",
      "wide_mc = MonteCarloSampler(wide_uniform_sampler, gaussian_pdf)"
     ],
     "language": "python",
     "metadata": {},
     "outputs": [],
     "prompt_number": 39
    },
    {
     "cell_type": "code",
     "collapsed": false,
     "input": [
      "n_samples = 10000\n",
      "gauss_samples = [random.gauss(mean, std) for i in xrange(n_samples)]\n",
      "narrow_uniform_samples = [random.uniform(narrow_a, narrow_b) for i in xrange(n_samples)]\n",
      "wide_uniform_samples = [random.uniform(wide_a, wide_b) for i in xrange(n_samples)]"
     ],
     "language": "python",
     "metadata": {},
     "outputs": [],
     "prompt_number": 61
    },
    {
     "cell_type": "code",
     "collapsed": false,
     "input": [
      "bins = np.linspace(wide_a, wide_b, num=1000)\n",
      "narrow_hist, _ = np.histogram(narrow_uniform_samples, bins=bins, density=True)\n",
      "wide_hist, _ = np.histogram(wide_uniform_samples, bins=bins, density=True)\n",
      "gauss_hist, _ = np.histogram(gauss_samples, bins=bins, density=True)"
     ],
     "language": "python",
     "metadata": {},
     "outputs": [],
     "prompt_number": 62
    },
    {
     "cell_type": "code",
     "collapsed": false,
     "input": [
      "plt.clf()\n",
      "plt.hold(True)\n",
      "plt.plot(bins[:-1], gauss_hist, 'r-', label=\"Gaussian PDF\")\n",
      "plt.plot(bins[:-1], narrow_hist, 'g-', label=\"Narrow MC\")\n",
      "plt.plot(bins[:-1], wide_hist, 'b-', label=\"Wide MC\")\n",
      "plt.legend(loc=\"upper right\")"
     ],
     "language": "python",
     "metadata": {},
     "outputs": [
      {
       "metadata": {},
       "output_type": "pyout",
       "prompt_number": 63,
       "text": [
        "<matplotlib.legend.Legend at 0x10e05c710>"
       ]
      },
      {
       "metadata": {},
       "output_type": "display_data",
       "png": "[encoded data removed]",
       "text": [
        "<matplotlib.figure.Figure at 0x10dd65e90>"
       ]
      }
     ],
     "prompt_number": 63
    },
    {
     "cell_type": "markdown",
     "metadata": {},
     "source": [
      "The figure shows the differences between the three distributions.  It should be apparent here that the narrow-range uniform distributions overlaps more with the Gaussian distribution than the wide-range uniform distribution.  This will be important later."
     ]
    },
    {
     "cell_type": "code",
     "collapsed": false,
     "input": [
      "n_samples = 10000\n",
      "narrow_samples = narrow_mc.sample_n(n_samples)\n",
      "wide_samples = wide_mc.sample_n(n_samples)\n",
      "gauss_samples = [random.gauss(mean, std) for i in xrange(n_samples)]"
     ],
     "language": "python",
     "metadata": {},
     "outputs": [],
     "prompt_number": 64
    },
    {
     "cell_type": "code",
     "collapsed": false,
     "input": [
      "bins = np.linspace(narrow_a, narrow_b, num=100)\n",
      "narrow_hist, _ = np.histogram(narrow_samples, bins=bins, density=True)\n",
      "wide_hist, _ = np.histogram(wide_samples, bins=bins, density=True)\n",
      "gauss_hist, _ = np.histogram(gauss_samples, bins=bins, density=True)"
     ],
     "language": "python",
     "metadata": {},
     "outputs": [],
     "prompt_number": 65
    },
    {
     "cell_type": "code",
     "collapsed": false,
     "input": [
      "plt.clf()\n",
      "plt.hold(True)\n",
      "plt.plot(bins[:-1], gauss_hist, 'r-', label=\"Gaussian PDF\")\n",
      "plt.plot(bins[:-1], narrow_hist, 'g-', label=\"Narrow MC\")\n",
      "plt.plot(bins[:-1], wide_hist, 'b-', label=\"Wide MC\")\n",
      "plt.legend(loc=\"upper right\")"
     ],
     "language": "python",
     "metadata": {},
     "outputs": [
      {
       "metadata": {},
       "output_type": "pyout",
       "prompt_number": 66,
       "text": [
        "<matplotlib.legend.Legend at 0x10e1c9c90>"
       ]
      },
      {
       "metadata": {},
       "output_type": "display_data",
       "png": "[encoded data removed]",
       "text": [
        "<matplotlib.figure.Figure at 0x10dd9a850>"
       ]
      }
     ],
     "prompt_number": 66
    },
    {
     "cell_type": "markdown",
     "metadata": {},
     "source": [
      "I ran the Monte Carlo using the wide and narrow uniform distributions to generate samples.  Even though neither of these distributions match the target distribution (Gaussian), the Monte Carlo process ensures that we sample the target distribution.  This is the power of a Monte Carlo method: Samples can be generated from any distribution, as long as it generates samples in the correct domain (e.g., $[-\\infty, \\infty]$).  (In our case, I'm assuming that samples outside of the range $[-10, 10]$ have a near-zero probability, hence my choice for the ranges of the uniform distribution.)  Regardless of the distribution used for generating the samples, the MC method ensures we sample from the correct distribution.\n",
      "\n",
      "When the target distribution is very complex, sampling it directly can be impossible.  MC methods allow us to overcome this limitation."
     ]
    },
    {
     "cell_type": "code",
     "collapsed": false,
     "input": [
      "print narrow_mc.acceptance_rate(), wide_mc.acceptance_rate()"
     ],
     "language": "python",
     "metadata": {},
     "outputs": [
      {
       "output_type": "stream",
       "stream": "stdout",
       "text": [
        "0.0500002419367 0.00495173337823\n"
       ]
      }
     ],
     "prompt_number": 67
    },
    {
     "cell_type": "markdown",
     "metadata": {},
     "source": [
      "This is not to say that the choice of sampling distribution doesn't have any impact -- in fact, it is quite important.  The choice of sampling distribution will affect the efficiency of the Monte Carlo method, in particular the acceptance rate.  The narrow uniform sampler was more likely to pick values in the high-probability region of the Gaussian distribution, while the wide uniform sampler was more likely to pick values outside of the high-probability region.  As a result, the MC method accepted 1 out of every 20 samples generated by the narrow sampler but only 1 out of every 200 samples generated by the wide sampler."
     ]
    },
    {
     "cell_type": "heading",
     "level": 1,
     "metadata": {},
     "source": [
      "Generating BigPetStore Data"
     ]
    },
    {
     "cell_type": "heading",
     "level": 2,
     "metadata": {},
     "source": [
      "Generating Store Locations"
     ]
    },
    {
     "cell_type": "markdown",
     "metadata": {},
     "source": [
      "Notes:\n",
      "\n",
      "* Zipcode Generator... show it works\n",
      "* Sample / test IncomePDF\n",
      "* Sample / test PopulationDensityPDF\n",
      "* Sample / test StoreLocationPDF\n",
      "* Acceptance rates\n"
     ]
    },
    {
     "cell_type": "code",
     "collapsed": false,
     "input": [
      "class UniformZipcodeGenerator(object):\n",
      "    def __init__(self, zipcodes):\n",
      "        self.zipcodes = zipcodes\n",
      "        \n",
      "    def generate(self):\n",
      "        return random.choice(self.zipcodes)    "
     ],
     "language": "python",
     "metadata": {},
     "outputs": [],
     "prompt_number": 388
    },
    {
     "cell_type": "code",
     "collapsed": false,
     "input": [
      "income_pdf_sampler = MonteCarloSampler(sipdfg, sipdfg)"
     ],
     "language": "python",
     "metadata": {},
     "outputs": [],
     "prompt_number": 302
    },
    {
     "cell_type": "code",
     "collapsed": false,
     "input": [
      "samples = income_pdf_sampler.sample_n(100)"
     ],
     "language": "python",
     "metadata": {},
     "outputs": [],
     "prompt_number": 303
    },
    {
     "cell_type": "code",
     "collapsed": false,
     "input": [
      "print income_pdf_sampler.acceptance_rate()"
     ],
     "language": "python",
     "metadata": {},
     "outputs": [
      {
       "output_type": "stream",
       "stream": "stdout",
       "text": [
        "4.43815843409e-06\n"
       ]
      }
     ],
     "prompt_number": 304
    },
    {
     "cell_type": "code",
     "collapsed": false,
     "input": [
      "_ = plt.hist(samples, bins=100, normed=True)"
     ],
     "language": "python",
     "metadata": {},
     "outputs": [
      {
       "metadata": {},
       "output_type": "display_data",
       "png": "[encoded data removed]",
       "text": [
        "<matplotlib.figure.Figure at 0x110cd5a90>"
       ]
      }
     ],
     "prompt_number": 305
    },
    {
     "cell_type": "code",
     "collapsed": false,
     "input": [],
     "language": "python",
     "metadata": {},
     "outputs": []
    }
   ],
   "metadata": {}
  }
 ]
}