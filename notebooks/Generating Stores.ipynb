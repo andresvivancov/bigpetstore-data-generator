{
 "metadata": {
  "name": ""
 },
 "nbformat": 3,
 "nbformat_minor": 0,
 "worksheets": [
  {
   "cells": [
    {
     "cell_type": "code",
     "collapsed": false,
     "input": [
      "%load_ext autoreload\n",
      "%autoreload 2\n",
      "%matplotlib inline\n",
      "import matplotlib.pyplot as plt\n",
      "import pandas as pd\n",
      "import numpy as np"
     ],
     "language": "python",
     "metadata": {},
     "outputs": [
      {
       "output_type": "stream",
       "stream": "stdout",
       "text": [
        "The autoreload extension is already loaded. To reload it, use:\n",
        "  %reload_ext autoreload\n"
       ]
      }
     ],
     "prompt_number": 69
    },
    {
     "cell_type": "code",
     "collapsed": false,
     "input": [
      "from utils import load_population_data\n",
      "zipcode_pop = load_population_data(\"../resources/population_data.csv\")"
     ],
     "language": "python",
     "metadata": {},
     "outputs": [],
     "prompt_number": 106
    },
    {
     "cell_type": "code",
     "collapsed": false,
     "input": [
      "zipcode_pop.iloc[:10]"
     ],
     "language": "python",
     "metadata": {},
     "outputs": [
      {
       "metadata": {},
       "output_type": "pyout",
       "prompt_number": 107,
       "text": [
        "11542    27633\n",
        "11547      793\n",
        "11545    12065\n",
        "11548     2780\n",
        "11549     2922\n",
        "19390    13425\n",
        "82443     4697\n",
        "82442      732\n",
        "82441      250\n",
        "82440      145\n",
        "dtype: int64"
       ]
      }
     ],
     "prompt_number": 107
    },
    {
     "cell_type": "code",
     "collapsed": false,
     "input": [
      "total_pop = zipcode_pop.sum(axis=0)\n",
      "print total_pop"
     ],
     "language": "python",
     "metadata": {},
     "outputs": [
      {
       "output_type": "stream",
       "stream": "stdout",
       "text": [
        "308722808\n"
       ]
      }
     ],
     "prompt_number": 108
    },
    {
     "cell_type": "code",
     "collapsed": false,
     "input": [
      "import numpy as np\n",
      "pop_density = zipcode_pop / np.float64(total_pop)"
     ],
     "language": "python",
     "metadata": {},
     "outputs": [],
     "prompt_number": 109
    },
    {
     "cell_type": "code",
     "collapsed": false,
     "input": [
      "pop_density.iloc[:10]"
     ],
     "language": "python",
     "metadata": {},
     "outputs": [
      {
       "metadata": {},
       "output_type": "pyout",
       "prompt_number": 110,
       "text": [
        "11542    0.000090\n",
        "11547    0.000003\n",
        "11545    0.000039\n",
        "11548    0.000009\n",
        "11549    0.000009\n",
        "19390    0.000043\n",
        "82443    0.000015\n",
        "82442    0.000002\n",
        "82441    0.000001\n",
        "82440    0.000000\n",
        "dtype: float64"
       ]
      }
     ],
     "prompt_number": 110
    },
    {
     "cell_type": "code",
     "collapsed": false,
     "input": [
      "pop_density.index[:10]"
     ],
     "language": "python",
     "metadata": {},
     "outputs": [
      {
       "metadata": {},
       "output_type": "pyout",
       "prompt_number": 111,
       "text": [
        "Index([u'11542', u'11547', u'11545', u'11548', u'11549', u'19390', u'82443', u'82442', u'82441', u'82440'], dtype='object')"
       ]
      }
     ],
     "prompt_number": 111
    },
    {
     "cell_type": "code",
     "collapsed": false,
     "input": [
      "from store import StoreGenerator\n",
      "from store import StorePDF\n",
      "from monte_carlo import MonteCarloGenerator\n"
     ],
     "language": "python",
     "metadata": {},
     "outputs": [],
     "prompt_number": 123
    },
    {
     "cell_type": "code",
     "collapsed": false,
     "input": [
      "sg = StoreGenerator(zipcode_pop)\n"
     ],
     "language": "python",
     "metadata": {},
     "outputs": [],
     "prompt_number": 126
    },
    {
     "cell_type": "code",
     "collapsed": false,
     "input": [
      "sg.create_stores([\"01029\", \"03830\", \"05301\", \"10004\"])"
     ],
     "language": "python",
     "metadata": {},
     "outputs": [
      {
       "html": [
        "<div style=\"max-height:1000px;max-width:1500px;overflow:auto;\">\n",
        "<table border=\"1\" class=\"dataframe\">\n",
        "  <thead>\n",
        "    <tr style=\"text-align: right;\">\n",
        "      <th></th>\n",
        "      <th>id</th>\n",
        "      <th>salesfrequency</th>\n",
        "      <th>zipcode</th>\n",
        "    </tr>\n",
        "  </thead>\n",
        "  <tbody>\n",
        "    <tr>\n",
        "      <th>01029</th>\n",
        "      <td> 0</td>\n",
        "      <td> 0.035368</td>\n",
        "      <td> 01029</td>\n",
        "    </tr>\n",
        "    <tr>\n",
        "      <th>03830</th>\n",
        "      <td> 1</td>\n",
        "      <td> 0.072171</td>\n",
        "      <td> 03830</td>\n",
        "    </tr>\n",
        "    <tr>\n",
        "      <th>05301</th>\n",
        "      <td> 2</td>\n",
        "      <td> 0.753990</td>\n",
        "      <td> 05301</td>\n",
        "    </tr>\n",
        "    <tr>\n",
        "      <th>10004</th>\n",
        "      <td> 3</td>\n",
        "      <td> 0.138471</td>\n",
        "      <td> 10004</td>\n",
        "    </tr>\n",
        "  </tbody>\n",
        "</table>\n",
        "<p>4 rows \u00d7 3 columns</p>\n",
        "</div>"
       ],
       "metadata": {},
       "output_type": "pyout",
       "prompt_number": 127,
       "text": [
        "       id  salesfrequency zipcode\n",
        "01029   0        0.035368   01029\n",
        "03830   1        0.072171   03830\n",
        "05301   2        0.753990   05301\n",
        "10004   3        0.138471   10004\n",
        "\n",
        "[4 rows x 3 columns]"
       ]
      }
     ],
     "prompt_number": 127
    },
    {
     "cell_type": "code",
     "collapsed": false,
     "input": [
      "print store"
     ],
     "language": "python",
     "metadata": {},
     "outputs": [
      {
       "output_type": "stream",
       "stream": "stdout",
       "text": [
        "22180\n"
       ]
      }
     ],
     "prompt_number": 115
    },
    {
     "cell_type": "code",
     "collapsed": false,
     "input": [
      "mc.acceptance_rate()"
     ],
     "language": "python",
     "metadata": {},
     "outputs": [
      {
       "metadata": {},
       "output_type": "pyout",
       "prompt_number": 116,
       "text": [
        "9.199208868037349e-06"
       ]
      }
     ],
     "prompt_number": 116
    },
    {
     "cell_type": "code",
     "collapsed": false,
     "input": [
      "pop_density.max()"
     ],
     "language": "python",
     "metadata": {},
     "outputs": [
      {
       "metadata": {},
       "output_type": "pyout",
       "prompt_number": 117,
       "text": [
        "0.0003689912019717053"
       ]
      }
     ],
     "prompt_number": 117
    },
    {
     "cell_type": "code",
     "collapsed": false,
     "input": [
      "pop_density.min()"
     ],
     "language": "python",
     "metadata": {},
     "outputs": [
      {
       "metadata": {},
       "output_type": "pyout",
       "prompt_number": 118,
       "text": [
        "0.0"
       ]
      }
     ],
     "prompt_number": 118
    },
    {
     "cell_type": "code",
     "collapsed": false,
     "input": [
      "plt.hist(pop_density, bins=1000)"
     ],
     "language": "python",
     "metadata": {},
     "outputs": [
      {
       "metadata": {},
       "output_type": "pyout",
       "prompt_number": 120,
       "text": [
        "(array([  1.51900000e+03,   1.67700000e+03,   1.51900000e+03,\n",
        "         1.20200000e+03,   1.07300000e+03,   9.03000000e+02,\n",
        "         8.52000000e+02,   7.45000000e+02,   6.63000000e+02,\n",
        "         6.77000000e+02,   5.83000000e+02,   5.34000000e+02,\n",
        "         5.22000000e+02,   4.67000000e+02,   4.82000000e+02,\n",
        "         4.21000000e+02,   3.79000000e+02,   3.69000000e+02,\n",
        "         3.44000000e+02,   3.16000000e+02,   3.27000000e+02,\n",
        "         2.98000000e+02,   2.94000000e+02,   2.30000000e+02,\n",
        "         2.41000000e+02,   2.47000000e+02,   2.15000000e+02,\n",
        "         2.37000000e+02,   2.26000000e+02,   2.37000000e+02,\n",
        "         1.70000000e+02,   1.68000000e+02,   1.84000000e+02,\n",
        "         1.72000000e+02,   1.56000000e+02,   1.53000000e+02,\n",
        "         1.35000000e+02,   1.46000000e+02,   1.48000000e+02,\n",
        "         1.22000000e+02,   1.37000000e+02,   1.57000000e+02,\n",
        "         1.27000000e+02,   1.38000000e+02,   1.33000000e+02,\n",
        "         1.27000000e+02,   1.07000000e+02,   1.37000000e+02,\n",
        "         1.07000000e+02,   9.50000000e+01,   9.10000000e+01,\n",
        "         1.26000000e+02,   9.90000000e+01,   1.18000000e+02,\n",
        "         8.90000000e+01,   1.06000000e+02,   7.90000000e+01,\n",
        "         8.20000000e+01,   9.40000000e+01,   7.70000000e+01,\n",
        "         7.50000000e+01,   7.80000000e+01,   9.90000000e+01,\n",
        "         7.00000000e+01,   7.60000000e+01,   6.50000000e+01,\n",
        "         9.70000000e+01,   8.30000000e+01,   8.00000000e+01,\n",
        "         7.40000000e+01,   7.30000000e+01,   6.80000000e+01,\n",
        "         7.70000000e+01,   6.90000000e+01,   6.10000000e+01,\n",
        "         4.80000000e+01,   6.90000000e+01,   5.70000000e+01,\n",
        "         6.60000000e+01,   6.90000000e+01,   5.40000000e+01,\n",
        "         5.80000000e+01,   5.90000000e+01,   6.40000000e+01,\n",
        "         5.50000000e+01,   5.20000000e+01,   5.80000000e+01,\n",
        "         6.80000000e+01,   5.90000000e+01,   6.60000000e+01,\n",
        "         5.60000000e+01,   5.80000000e+01,   4.90000000e+01,\n",
        "         4.80000000e+01,   5.40000000e+01,   4.50000000e+01,\n",
        "         3.70000000e+01,   5.20000000e+01,   4.80000000e+01,\n",
        "         6.30000000e+01,   5.30000000e+01,   5.60000000e+01,\n",
        "         5.50000000e+01,   3.70000000e+01,   5.00000000e+01,\n",
        "         5.10000000e+01,   4.80000000e+01,   4.40000000e+01,\n",
        "         5.20000000e+01,   4.10000000e+01,   5.00000000e+01,\n",
        "         5.10000000e+01,   4.90000000e+01,   4.90000000e+01,\n",
        "         4.30000000e+01,   4.70000000e+01,   3.70000000e+01,\n",
        "         4.10000000e+01,   3.20000000e+01,   6.00000000e+01,\n",
        "         3.60000000e+01,   4.80000000e+01,   5.10000000e+01,\n",
        "         5.60000000e+01,   4.90000000e+01,   4.70000000e+01,\n",
        "         4.10000000e+01,   5.90000000e+01,   4.20000000e+01,\n",
        "         4.00000000e+01,   3.90000000e+01,   2.60000000e+01,\n",
        "         5.00000000e+01,   3.90000000e+01,   4.40000000e+01,\n",
        "         4.10000000e+01,   3.60000000e+01,   4.50000000e+01,\n",
        "         3.50000000e+01,   3.90000000e+01,   4.20000000e+01,\n",
        "         4.60000000e+01,   4.10000000e+01,   3.20000000e+01,\n",
        "         4.40000000e+01,   3.90000000e+01,   3.60000000e+01,\n",
        "         4.60000000e+01,   4.00000000e+01,   2.80000000e+01,\n",
        "         3.90000000e+01,   3.40000000e+01,   5.30000000e+01,\n",
        "         4.20000000e+01,   4.80000000e+01,   4.40000000e+01,\n",
        "         3.20000000e+01,   2.70000000e+01,   4.00000000e+01,\n",
        "         2.70000000e+01,   2.90000000e+01,   3.50000000e+01,\n",
        "         3.50000000e+01,   2.10000000e+01,   3.80000000e+01,\n",
        "         3.50000000e+01,   3.00000000e+01,   3.60000000e+01,\n",
        "         3.90000000e+01,   3.20000000e+01,   2.80000000e+01,\n",
        "         4.00000000e+01,   3.50000000e+01,   4.10000000e+01,\n",
        "         2.80000000e+01,   3.70000000e+01,   4.70000000e+01,\n",
        "         3.70000000e+01,   3.60000000e+01,   3.10000000e+01,\n",
        "         3.10000000e+01,   3.30000000e+01,   4.00000000e+01,\n",
        "         2.80000000e+01,   3.00000000e+01,   3.40000000e+01,\n",
        "         3.90000000e+01,   3.80000000e+01,   2.90000000e+01,\n",
        "         3.30000000e+01,   2.70000000e+01,   2.30000000e+01,\n",
        "         3.60000000e+01,   2.90000000e+01,   2.80000000e+01,\n",
        "         2.90000000e+01,   3.70000000e+01,   3.30000000e+01,\n",
        "         2.40000000e+01,   3.10000000e+01,   3.40000000e+01,\n",
        "         2.70000000e+01,   3.00000000e+01,   2.80000000e+01,\n",
        "         3.60000000e+01,   2.80000000e+01,   2.90000000e+01,\n",
        "         2.90000000e+01,   2.50000000e+01,   3.10000000e+01,\n",
        "         2.60000000e+01,   3.40000000e+01,   1.90000000e+01,\n",
        "         4.30000000e+01,   2.80000000e+01,   3.20000000e+01,\n",
        "         2.40000000e+01,   3.20000000e+01,   3.10000000e+01,\n",
        "         2.20000000e+01,   3.10000000e+01,   2.40000000e+01,\n",
        "         3.30000000e+01,   3.00000000e+01,   2.80000000e+01,\n",
        "         2.90000000e+01,   2.60000000e+01,   3.10000000e+01,\n",
        "         2.70000000e+01,   2.30000000e+01,   2.70000000e+01,\n",
        "         3.00000000e+01,   3.00000000e+01,   2.00000000e+01,\n",
        "         3.20000000e+01,   3.10000000e+01,   3.60000000e+01,\n",
        "         3.50000000e+01,   3.30000000e+01,   2.40000000e+01,\n",
        "         2.70000000e+01,   2.80000000e+01,   3.00000000e+01,\n",
        "         2.10000000e+01,   2.40000000e+01,   3.00000000e+01,\n",
        "         3.00000000e+01,   2.40000000e+01,   2.90000000e+01,\n",
        "         2.40000000e+01,   3.20000000e+01,   1.80000000e+01,\n",
        "         3.00000000e+01,   2.30000000e+01,   2.80000000e+01,\n",
        "         3.10000000e+01,   2.40000000e+01,   3.30000000e+01,\n",
        "         2.00000000e+01,   2.40000000e+01,   2.80000000e+01,\n",
        "         3.40000000e+01,   2.60000000e+01,   2.60000000e+01,\n",
        "         3.00000000e+01,   2.50000000e+01,   2.50000000e+01,\n",
        "         3.20000000e+01,   2.70000000e+01,   2.00000000e+01,\n",
        "         2.60000000e+01,   2.40000000e+01,   2.30000000e+01,\n",
        "         2.00000000e+01,   2.50000000e+01,   2.90000000e+01,\n",
        "         2.50000000e+01,   2.80000000e+01,   1.80000000e+01,\n",
        "         2.30000000e+01,   2.30000000e+01,   1.90000000e+01,\n",
        "         1.70000000e+01,   2.00000000e+01,   2.00000000e+01,\n",
        "         1.70000000e+01,   1.60000000e+01,   2.50000000e+01,\n",
        "         1.50000000e+01,   1.90000000e+01,   1.30000000e+01,\n",
        "         1.80000000e+01,   1.50000000e+01,   2.10000000e+01,\n",
        "         2.40000000e+01,   1.90000000e+01,   2.10000000e+01,\n",
        "         2.00000000e+01,   1.60000000e+01,   2.00000000e+01,\n",
        "         1.60000000e+01,   1.60000000e+01,   1.70000000e+01,\n",
        "         2.10000000e+01,   1.80000000e+01,   1.80000000e+01,\n",
        "         1.70000000e+01,   2.20000000e+01,   2.00000000e+01,\n",
        "         1.40000000e+01,   2.30000000e+01,   1.70000000e+01,\n",
        "         1.00000000e+01,   1.30000000e+01,   1.10000000e+01,\n",
        "         2.20000000e+01,   2.20000000e+01,   1.60000000e+01,\n",
        "         1.60000000e+01,   2.00000000e+01,   1.70000000e+01,\n",
        "         1.30000000e+01,   1.90000000e+01,   1.50000000e+01,\n",
        "         1.90000000e+01,   1.20000000e+01,   2.40000000e+01,\n",
        "         1.70000000e+01,   1.80000000e+01,   1.30000000e+01,\n",
        "         1.30000000e+01,   1.60000000e+01,   1.10000000e+01,\n",
        "         1.90000000e+01,   1.60000000e+01,   1.30000000e+01,\n",
        "         1.50000000e+01,   1.90000000e+01,   1.70000000e+01,\n",
        "         1.40000000e+01,   1.90000000e+01,   1.90000000e+01,\n",
        "         2.30000000e+01,   1.90000000e+01,   9.00000000e+00,\n",
        "         1.40000000e+01,   1.40000000e+01,   1.40000000e+01,\n",
        "         1.60000000e+01,   1.60000000e+01,   1.50000000e+01,\n",
        "         1.20000000e+01,   1.00000000e+01,   1.40000000e+01,\n",
        "         1.90000000e+01,   1.40000000e+01,   1.30000000e+01,\n",
        "         1.40000000e+01,   1.50000000e+01,   1.40000000e+01,\n",
        "         1.40000000e+01,   1.60000000e+01,   1.10000000e+01,\n",
        "         6.00000000e+00,   9.00000000e+00,   1.00000000e+01,\n",
        "         1.20000000e+01,   8.00000000e+00,   1.00000000e+01,\n",
        "         8.00000000e+00,   1.20000000e+01,   8.00000000e+00,\n",
        "         1.10000000e+01,   6.00000000e+00,   1.20000000e+01,\n",
        "         1.30000000e+01,   1.00000000e+01,   1.00000000e+01,\n",
        "         1.30000000e+01,   1.30000000e+01,   9.00000000e+00,\n",
        "         6.00000000e+00,   1.30000000e+01,   9.00000000e+00,\n",
        "         1.00000000e+01,   9.00000000e+00,   8.00000000e+00,\n",
        "         7.00000000e+00,   1.00000000e+01,   7.00000000e+00,\n",
        "         9.00000000e+00,   8.00000000e+00,   9.00000000e+00,\n",
        "         9.00000000e+00,   8.00000000e+00,   1.60000000e+01,\n",
        "         1.60000000e+01,   1.20000000e+01,   7.00000000e+00,\n",
        "         6.00000000e+00,   3.00000000e+00,   1.00000000e+01,\n",
        "         8.00000000e+00,   7.00000000e+00,   9.00000000e+00,\n",
        "         1.30000000e+01,   1.20000000e+01,   1.10000000e+01,\n",
        "         6.00000000e+00,   7.00000000e+00,   3.00000000e+00,\n",
        "         1.10000000e+01,   9.00000000e+00,   7.00000000e+00,\n",
        "         1.30000000e+01,   6.00000000e+00,   8.00000000e+00,\n",
        "         8.00000000e+00,   9.00000000e+00,   2.00000000e+00,\n",
        "         4.00000000e+00,   6.00000000e+00,   4.00000000e+00,\n",
        "         4.00000000e+00,   2.00000000e+00,   5.00000000e+00,\n",
        "         8.00000000e+00,   6.00000000e+00,   5.00000000e+00,\n",
        "         8.00000000e+00,   1.00000000e+01,   1.00000000e+01,\n",
        "         7.00000000e+00,   1.10000000e+01,   9.00000000e+00,\n",
        "         6.00000000e+00,   7.00000000e+00,   7.00000000e+00,\n",
        "         1.10000000e+01,   5.00000000e+00,   8.00000000e+00,\n",
        "         6.00000000e+00,   2.00000000e+00,   6.00000000e+00,\n",
        "         1.10000000e+01,   4.00000000e+00,   3.00000000e+00,\n",
        "         7.00000000e+00,   8.00000000e+00,   6.00000000e+00,\n",
        "         5.00000000e+00,   3.00000000e+00,   4.00000000e+00,\n",
        "         2.00000000e+00,   7.00000000e+00,   8.00000000e+00,\n",
        "         3.00000000e+00,   5.00000000e+00,   2.00000000e+00,\n",
        "         7.00000000e+00,   3.00000000e+00,   7.00000000e+00,\n",
        "         5.00000000e+00,   3.00000000e+00,   9.00000000e+00,\n",
        "         1.30000000e+01,   3.00000000e+00,   5.00000000e+00,\n",
        "         3.00000000e+00,   4.00000000e+00,   8.00000000e+00,\n",
        "         9.00000000e+00,   6.00000000e+00,   5.00000000e+00,\n",
        "         1.00000000e+01,   3.00000000e+00,   4.00000000e+00,\n",
        "         6.00000000e+00,   2.00000000e+00,   5.00000000e+00,\n",
        "         3.00000000e+00,   3.00000000e+00,   8.00000000e+00,\n",
        "         7.00000000e+00,   5.00000000e+00,   2.00000000e+00,\n",
        "         4.00000000e+00,   3.00000000e+00,   4.00000000e+00,\n",
        "         6.00000000e+00,   4.00000000e+00,   8.00000000e+00,\n",
        "         4.00000000e+00,   6.00000000e+00,   5.00000000e+00,\n",
        "         5.00000000e+00,   4.00000000e+00,   1.00000000e+00,\n",
        "         2.00000000e+00,   2.00000000e+00,   1.00000000e+00,\n",
        "         2.00000000e+00,   2.00000000e+00,   6.00000000e+00,\n",
        "         3.00000000e+00,   1.00000000e+00,   4.00000000e+00,\n",
        "         3.00000000e+00,   3.00000000e+00,   3.00000000e+00,\n",
        "         1.00000000e+00,   3.00000000e+00,   3.00000000e+00,\n",
        "         4.00000000e+00,   1.00000000e+00,   2.00000000e+00,\n",
        "         2.00000000e+00,   2.00000000e+00,   4.00000000e+00,\n",
        "         3.00000000e+00,   5.00000000e+00,   6.00000000e+00,\n",
        "         5.00000000e+00,   5.00000000e+00,   3.00000000e+00,\n",
        "         1.00000000e+00,   1.00000000e+00,   2.00000000e+00,\n",
        "         5.00000000e+00,   3.00000000e+00,   5.00000000e+00,\n",
        "         2.00000000e+00,   3.00000000e+00,   3.00000000e+00,\n",
        "         3.00000000e+00,   4.00000000e+00,   3.00000000e+00,\n",
        "         1.00000000e+00,   5.00000000e+00,   2.00000000e+00,\n",
        "         2.00000000e+00,   1.00000000e+00,   1.00000000e+00,\n",
        "         2.00000000e+00,   7.00000000e+00,   3.00000000e+00,\n",
        "         3.00000000e+00,   0.00000000e+00,   5.00000000e+00,\n",
        "         2.00000000e+00,   1.00000000e+00,   0.00000000e+00,\n",
        "         1.00000000e+00,   3.00000000e+00,   2.00000000e+00,\n",
        "         3.00000000e+00,   3.00000000e+00,   2.00000000e+00,\n",
        "         2.00000000e+00,   2.00000000e+00,   5.00000000e+00,\n",
        "         2.00000000e+00,   1.00000000e+00,   0.00000000e+00,\n",
        "         3.00000000e+00,   1.00000000e+00,   2.00000000e+00,\n",
        "         2.00000000e+00,   0.00000000e+00,   2.00000000e+00,\n",
        "         1.00000000e+00,   3.00000000e+00,   2.00000000e+00,\n",
        "         0.00000000e+00,   3.00000000e+00,   0.00000000e+00,\n",
        "         1.00000000e+00,   1.00000000e+00,   0.00000000e+00,\n",
        "         1.00000000e+00,   1.00000000e+00,   1.00000000e+00,\n",
        "         1.00000000e+00,   2.00000000e+00,   4.00000000e+00,\n",
        "         2.00000000e+00,   1.00000000e+00,   5.00000000e+00,\n",
        "         2.00000000e+00,   2.00000000e+00,   0.00000000e+00,\n",
        "         0.00000000e+00,   0.00000000e+00,   2.00000000e+00,\n",
        "         0.00000000e+00,   2.00000000e+00,   2.00000000e+00,\n",
        "         1.00000000e+00,   1.00000000e+00,   1.00000000e+00,\n",
        "         0.00000000e+00,   0.00000000e+00,   0.00000000e+00,\n",
        "         3.00000000e+00,   1.00000000e+00,   0.00000000e+00,\n",
        "         0.00000000e+00,   0.00000000e+00,   2.00000000e+00,\n",
        "         0.00000000e+00,   2.00000000e+00,   1.00000000e+00,\n",
        "         7.00000000e+00,   0.00000000e+00,   0.00000000e+00,\n",
        "         1.00000000e+00,   1.00000000e+00,   0.00000000e+00,\n",
        "         2.00000000e+00,   1.00000000e+00,   0.00000000e+00,\n",
        "         3.00000000e+00,   1.00000000e+00,   2.00000000e+00,\n",
        "         0.00000000e+00,   0.00000000e+00,   0.00000000e+00,\n",
        "         0.00000000e+00,   2.00000000e+00,   2.00000000e+00,\n",
        "         1.00000000e+00,   2.00000000e+00,   1.00000000e+00,\n",
        "         3.00000000e+00,   3.00000000e+00,   1.00000000e+00,\n",
        "         2.00000000e+00,   0.00000000e+00,   1.00000000e+00,\n",
        "         0.00000000e+00,   0.00000000e+00,   2.00000000e+00,\n",
        "         1.00000000e+00,   1.00000000e+00,   0.00000000e+00,\n",
        "         0.00000000e+00,   0.00000000e+00,   1.00000000e+00,\n",
        "         0.00000000e+00,   1.00000000e+00,   0.00000000e+00,\n",
        "         0.00000000e+00,   2.00000000e+00,   1.00000000e+00,\n",
        "         1.00000000e+00,   0.00000000e+00,   3.00000000e+00,\n",
        "         2.00000000e+00,   2.00000000e+00,   0.00000000e+00,\n",
        "         3.00000000e+00,   1.00000000e+00,   0.00000000e+00,\n",
        "         0.00000000e+00,   0.00000000e+00,   2.00000000e+00,\n",
        "         0.00000000e+00,   1.00000000e+00,   2.00000000e+00,\n",
        "         0.00000000e+00,   0.00000000e+00,   1.00000000e+00,\n",
        "         3.00000000e+00,   1.00000000e+00,   0.00000000e+00,\n",
        "         0.00000000e+00,   0.00000000e+00,   1.00000000e+00,\n",
        "         0.00000000e+00,   0.00000000e+00,   0.00000000e+00,\n",
        "         0.00000000e+00,   0.00000000e+00,   0.00000000e+00,\n",
        "         0.00000000e+00,   1.00000000e+00,   0.00000000e+00,\n",
        "         1.00000000e+00,   1.00000000e+00,   0.00000000e+00,\n",
        "         2.00000000e+00,   1.00000000e+00,   1.00000000e+00,\n",
        "         0.00000000e+00,   1.00000000e+00,   0.00000000e+00,\n",
        "         0.00000000e+00,   2.00000000e+00,   0.00000000e+00,\n",
        "         2.00000000e+00,   0.00000000e+00,   0.00000000e+00,\n",
        "         1.00000000e+00,   0.00000000e+00,   1.00000000e+00,\n",
        "         2.00000000e+00,   0.00000000e+00,   0.00000000e+00,\n",
        "         0.00000000e+00,   0.00000000e+00,   0.00000000e+00,\n",
        "         0.00000000e+00,   0.00000000e+00,   0.00000000e+00,\n",
        "         1.00000000e+00,   1.00000000e+00,   1.00000000e+00,\n",
        "         0.00000000e+00,   0.00000000e+00,   0.00000000e+00,\n",
        "         0.00000000e+00,   0.00000000e+00,   0.00000000e+00,\n",
        "         1.00000000e+00,   0.00000000e+00,   1.00000000e+00,\n",
        "         2.00000000e+00,   0.00000000e+00,   1.00000000e+00,\n",
        "         0.00000000e+00,   0.00000000e+00,   0.00000000e+00,\n",
        "         0.00000000e+00,   0.00000000e+00,   0.00000000e+00,\n",
        "         0.00000000e+00,   0.00000000e+00,   0.00000000e+00,\n",
        "         1.00000000e+00,   0.00000000e+00,   0.00000000e+00,\n",
        "         2.00000000e+00,   1.00000000e+00,   1.00000000e+00,\n",
        "         0.00000000e+00,   0.00000000e+00,   1.00000000e+00,\n",
        "         0.00000000e+00,   0.00000000e+00,   0.00000000e+00,\n",
        "         1.00000000e+00,   0.00000000e+00,   0.00000000e+00,\n",
        "         1.00000000e+00,   1.00000000e+00,   0.00000000e+00,\n",
        "         0.00000000e+00,   0.00000000e+00,   1.00000000e+00,\n",
        "         1.00000000e+00,   0.00000000e+00,   0.00000000e+00,\n",
        "         0.00000000e+00,   0.00000000e+00,   0.00000000e+00,\n",
        "         0.00000000e+00,   1.00000000e+00,   0.00000000e+00,\n",
        "         0.00000000e+00,   0.00000000e+00,   1.00000000e+00,\n",
        "         0.00000000e+00,   0.00000000e+00,   1.00000000e+00,\n",
        "         0.00000000e+00,   0.00000000e+00,   1.00000000e+00,\n",
        "         0.00000000e+00,   1.00000000e+00,   0.00000000e+00,\n",
        "         0.00000000e+00,   1.00000000e+00,   0.00000000e+00,\n",
        "         0.00000000e+00,   0.00000000e+00,   0.00000000e+00,\n",
        "         0.00000000e+00,   1.00000000e+00,   2.00000000e+00,\n",
        "         0.00000000e+00,   0.00000000e+00,   1.00000000e+00,\n",
        "         0.00000000e+00,   1.00000000e+00,   0.00000000e+00,\n",
        "         0.00000000e+00,   0.00000000e+00,   0.00000000e+00,\n",
        "         0.00000000e+00,   0.00000000e+00,   0.00000000e+00,\n",
        "         1.00000000e+00,   0.00000000e+00,   0.00000000e+00,\n",
        "         0.00000000e+00,   1.00000000e+00,   0.00000000e+00,\n",
        "         0.00000000e+00,   2.00000000e+00,   1.00000000e+00,\n",
        "         0.00000000e+00,   0.00000000e+00,   0.00000000e+00,\n",
        "         0.00000000e+00,   0.00000000e+00,   1.00000000e+00,\n",
        "         0.00000000e+00,   0.00000000e+00,   1.00000000e+00,\n",
        "         1.00000000e+00,   1.00000000e+00,   0.00000000e+00,\n",
        "         0.00000000e+00,   1.00000000e+00,   1.00000000e+00,\n",
        "         0.00000000e+00,   0.00000000e+00,   0.00000000e+00,\n",
        "         2.00000000e+00,   1.00000000e+00,   1.00000000e+00,\n",
        "         0.00000000e+00,   0.00000000e+00,   0.00000000e+00,\n",
        "         0.00000000e+00,   1.00000000e+00,   0.00000000e+00,\n",
        "         1.00000000e+00,   0.00000000e+00,   0.00000000e+00,\n",
        "         0.00000000e+00,   0.00000000e+00,   0.00000000e+00,\n",
        "         0.00000000e+00,   0.00000000e+00,   0.00000000e+00,\n",
        "         0.00000000e+00,   0.00000000e+00,   0.00000000e+00,\n",
        "         0.00000000e+00,   0.00000000e+00,   0.00000000e+00,\n",
        "         1.00000000e+00,   0.00000000e+00,   0.00000000e+00,\n",
        "         0.00000000e+00,   0.00000000e+00,   0.00000000e+00,\n",
        "         0.00000000e+00,   0.00000000e+00,   0.00000000e+00,\n",
        "         0.00000000e+00,   0.00000000e+00,   0.00000000e+00,\n",
        "         0.00000000e+00,   1.00000000e+00,   0.00000000e+00,\n",
        "         0.00000000e+00,   0.00000000e+00,   0.00000000e+00,\n",
        "         0.00000000e+00,   0.00000000e+00,   0.00000000e+00,\n",
        "         0.00000000e+00,   1.00000000e+00,   0.00000000e+00,\n",
        "         0.00000000e+00,   0.00000000e+00,   0.00000000e+00,\n",
        "         0.00000000e+00,   0.00000000e+00,   0.00000000e+00,\n",
        "         0.00000000e+00,   0.00000000e+00,   0.00000000e+00,\n",
        "         1.00000000e+00,   0.00000000e+00,   0.00000000e+00,\n",
        "         0.00000000e+00,   1.00000000e+00,   0.00000000e+00,\n",
        "         1.00000000e+00,   0.00000000e+00,   0.00000000e+00,\n",
        "         0.00000000e+00,   0.00000000e+00,   0.00000000e+00,\n",
        "         0.00000000e+00,   0.00000000e+00,   0.00000000e+00,\n",
        "         0.00000000e+00,   0.00000000e+00,   0.00000000e+00,\n",
        "         0.00000000e+00,   0.00000000e+00,   0.00000000e+00,\n",
        "         0.00000000e+00,   0.00000000e+00,   0.00000000e+00,\n",
        "         0.00000000e+00,   1.00000000e+00,   0.00000000e+00,\n",
        "         1.00000000e+00,   0.00000000e+00,   0.00000000e+00,\n",
        "         0.00000000e+00,   0.00000000e+00,   0.00000000e+00,\n",
        "         0.00000000e+00,   0.00000000e+00,   0.00000000e+00,\n",
        "         0.00000000e+00,   0.00000000e+00,   0.00000000e+00,\n",
        "         0.00000000e+00,   0.00000000e+00,   1.00000000e+00,\n",
        "         0.00000000e+00,   0.00000000e+00,   0.00000000e+00,\n",
        "         0.00000000e+00,   0.00000000e+00,   0.00000000e+00,\n",
        "         0.00000000e+00,   0.00000000e+00,   0.00000000e+00,\n",
        "         0.00000000e+00,   0.00000000e+00,   0.00000000e+00,\n",
        "         0.00000000e+00,   0.00000000e+00,   0.00000000e+00,\n",
        "         0.00000000e+00,   0.00000000e+00,   0.00000000e+00,\n",
        "         0.00000000e+00,   0.00000000e+00,   0.00000000e+00,\n",
        "         0.00000000e+00,   0.00000000e+00,   0.00000000e+00,\n",
        "         0.00000000e+00,   0.00000000e+00,   0.00000000e+00,\n",
        "         0.00000000e+00,   0.00000000e+00,   0.00000000e+00,\n",
        "         0.00000000e+00,   0.00000000e+00,   0.00000000e+00,\n",
        "         0.00000000e+00,   0.00000000e+00,   0.00000000e+00,\n",
        "         0.00000000e+00,   0.00000000e+00,   1.00000000e+00,\n",
        "         0.00000000e+00,   0.00000000e+00,   0.00000000e+00,\n",
        "         0.00000000e+00,   0.00000000e+00,   0.00000000e+00,\n",
        "         0.00000000e+00,   0.00000000e+00,   0.00000000e+00,\n",
        "         1.00000000e+00,   0.00000000e+00,   0.00000000e+00,\n",
        "         0.00000000e+00,   0.00000000e+00,   0.00000000e+00,\n",
        "         0.00000000e+00,   0.00000000e+00,   0.00000000e+00,\n",
        "         0.00000000e+00,   0.00000000e+00,   0.00000000e+00,\n",
        "         0.00000000e+00,   0.00000000e+00,   0.00000000e+00,\n",
        "         0.00000000e+00,   0.00000000e+00,   0.00000000e+00,\n",
        "         0.00000000e+00,   0.00000000e+00,   0.00000000e+00,\n",
        "         0.00000000e+00,   0.00000000e+00,   0.00000000e+00,\n",
        "         1.00000000e+00]),\n",
        " array([  0.00000000e+00,   3.68991202e-07,   7.37982404e-07, ...,\n",
        "         3.68253220e-04,   3.68622211e-04,   3.68991202e-04]),\n",
        " <a list of 1000 Patch objects>)"
       ]
      },
      {
       "metadata": {},
       "output_type": "display_data",
       "png": "[encoded data removed]",
       "text": [
        "<matplotlib.figure.Figure at 0x10eaf7d10>"
       ]
      }
     ],
     "prompt_number": 120
    },
    {
     "cell_type": "code",
     "collapsed": false,
     "input": [],
     "language": "python",
     "metadata": {},
     "outputs": []
    }
   ],
   "metadata": {}
  }
 ]
}